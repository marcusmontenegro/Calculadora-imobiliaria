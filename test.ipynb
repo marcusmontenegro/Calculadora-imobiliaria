{
 "cells": [
  {
   "cell_type": "code",
   "execution_count": 5,
   "id": "10d0efb3",
   "metadata": {},
   "outputs": [
    {
     "data": {
      "text/plain": [
       "'R$ 10.000,00'"
      ]
     },
     "execution_count": 5,
     "metadata": {},
     "output_type": "execute_result"
    }
   ],
   "source": [
    "import locale\n",
    "locale.setlocale(locale.LC_ALL, '')\n",
    "\n",
    "\n",
    "test = 10000\n",
    "locale.currency( test, grouping=True )"
   ]
  }
 ],
 "metadata": {
  "kernelspec": {
   "display_name": "venv",
   "language": "python",
   "name": "python3"
  },
  "language_info": {
   "codemirror_mode": {
    "name": "ipython",
    "version": 3
   },
   "file_extension": ".py",
   "mimetype": "text/x-python",
   "name": "python",
   "nbconvert_exporter": "python",
   "pygments_lexer": "ipython3",
   "version": "3.12.3"
  }
 },
 "nbformat": 4,
 "nbformat_minor": 5
}
