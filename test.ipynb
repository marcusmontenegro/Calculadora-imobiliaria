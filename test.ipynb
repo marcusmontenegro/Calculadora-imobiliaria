{
 "cells": [
  {
   "cell_type": "code",
   "execution_count": null,
   "id": "10d0efb3",
   "metadata": {},
   "outputs": [
    {
     "name": "stdout",
     "output_type": "stream",
     "text": [
      "Senna Tower\n",
      "Senna Tower v2\n"
     ]
    }
   ],
   "source": [
    "list_empreendimentos = [{\"Empreendimento\": \"Senna Tower\", \"url\": \"https://www.sennatower.com/\"},{\"Empreendimento\": \"Senna Tower v2\", \"url\": \"https://www.sennatower.com/\"}]\n",
    "\n",
    "escolha_empreendimento = []\n",
    "\n",
    "for empreendimento in list_empreendimentos:\n",
    "    escolha_empreendimento.append(empreendimento[\"Empreendimento\"])\n",
    "\n",
    "print(escolha_empreendimento)\n"
   ]
  }
 ],
 "metadata": {
  "kernelspec": {
   "display_name": "venv",
   "language": "python",
   "name": "python3"
  },
  "language_info": {
   "codemirror_mode": {
    "name": "ipython",
    "version": 3
   },
   "file_extension": ".py",
   "mimetype": "text/x-python",
   "name": "python",
   "nbconvert_exporter": "python",
   "pygments_lexer": "ipython3",
   "version": "3.12.3"
  }
 },
 "nbformat": 4,
 "nbformat_minor": 5
}
